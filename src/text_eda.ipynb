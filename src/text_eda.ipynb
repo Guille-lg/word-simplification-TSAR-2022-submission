{
 "cells": [
  {
   "cell_type": "markdown",
   "metadata": {},
   "source": []
  },
  {
   "cell_type": "code",
   "execution_count": 1,
   "metadata": {},
   "outputs": [],
   "source": [
    "import pandas as pd\n",
    "import clients\n",
    "import metrics"
   ]
  },
  {
   "cell_type": "code",
   "execution_count": 2,
   "metadata": {},
   "outputs": [
    {
     "data": {
      "text/html": [
       "<div>\n",
       "<style scoped>\n",
       "    .dataframe tbody tr th:only-of-type {\n",
       "        vertical-align: middle;\n",
       "    }\n",
       "\n",
       "    .dataframe tbody tr th {\n",
       "        vertical-align: top;\n",
       "    }\n",
       "\n",
       "    .dataframe thead th {\n",
       "        text-align: right;\n",
       "    }\n",
       "</style>\n",
       "<table border=\"1\" class=\"dataframe\">\n",
       "  <thead>\n",
       "    <tr style=\"text-align: right;\">\n",
       "      <th></th>\n",
       "      <th>Complex_word</th>\n",
       "      <th>Text</th>\n",
       "      <th>Candidates</th>\n",
       "    </tr>\n",
       "    <tr>\n",
       "      <th>Id</th>\n",
       "      <th></th>\n",
       "      <th></th>\n",
       "      <th></th>\n",
       "    </tr>\n",
       "  </thead>\n",
       "  <tbody>\n",
       "    <tr>\n",
       "      <th>89497</th>\n",
       "      <td>labrarse</td>\n",
       "      <td>A comienzos de la década de 1980, se trasladó ...</td>\n",
       "      <td>{'construirse': 4, 'trabajar': 1, 'ganarse': 2...</td>\n",
       "    </tr>\n",
       "    <tr>\n",
       "      <th>10973</th>\n",
       "      <td>tertulias</td>\n",
       "      <td>A lo largo de sus más de veinte años de experi...</td>\n",
       "      <td>{'conversaciones': 2, 'debates': 4, 'reunion':...</td>\n",
       "    </tr>\n",
       "    <tr>\n",
       "      <th>97065</th>\n",
       "      <td>propiciado</td>\n",
       "      <td>A pesar de las pocas bajas (menos de 500 en to...</td>\n",
       "      <td>{'favorecido': 3, 'desencadenado': 3, 'favorid...</td>\n",
       "    </tr>\n",
       "    <tr>\n",
       "      <th>58392</th>\n",
       "      <td>decadencia</td>\n",
       "      <td>A pesar de las pocas bajas (menos de 500 en to...</td>\n",
       "      <td>{'caída': 11, 'decaimiento': 1, 'abatimiento':...</td>\n",
       "    </tr>\n",
       "    <tr>\n",
       "      <th>50812</th>\n",
       "      <td>caseríos</td>\n",
       "      <td>Al igual que otros municipios cercanos a Toled...</td>\n",
       "      <td>{'casas': 5, 'casales': 1, 'trabajos': 1, 'pue...</td>\n",
       "    </tr>\n",
       "  </tbody>\n",
       "</table>\n",
       "</div>"
      ],
      "text/plain": [
       "      Complex_word                                               Text  \\\n",
       "Id                                                                      \n",
       "89497     labrarse  A comienzos de la década de 1980, se trasladó ...   \n",
       "10973    tertulias  A lo largo de sus más de veinte años de experi...   \n",
       "97065   propiciado  A pesar de las pocas bajas (menos de 500 en to...   \n",
       "58392   decadencia  A pesar de las pocas bajas (menos de 500 en to...   \n",
       "50812     caseríos  Al igual que otros municipios cercanos a Toled...   \n",
       "\n",
       "                                              Candidates  \n",
       "Id                                                        \n",
       "89497  {'construirse': 4, 'trabajar': 1, 'ganarse': 2...  \n",
       "10973  {'conversaciones': 2, 'debates': 4, 'reunion':...  \n",
       "97065  {'favorecido': 3, 'desencadenado': 3, 'favorid...  \n",
       "58392  {'caída': 11, 'decaimiento': 1, 'abatimiento':...  \n",
       "50812  {'casas': 5, 'casales': 1, 'trabajos': 1, 'pue...  "
      ]
     },
     "execution_count": 2,
     "metadata": {},
     "output_type": "execute_result"
    }
   ],
   "source": [
    "import random\n",
    "\n",
    "def parse_df(file : str) -> pd.DataFrame:\n",
    "    df = pd.DataFrame(columns=['Id', 'Complex_word', 'Text', 'Candidates'])\n",
    "    \n",
    "    with open(file, 'r', encoding='utf-8') as f:\n",
    "        lines = f.readlines()\n",
    "        for line in lines:\n",
    "            line = line.split('\\t')\n",
    "            \n",
    "            id = random.randint(1, 100000)\n",
    "            text = line[0]\n",
    "            complex_word = line[1]\n",
    "            \n",
    "            # the rest of the line is the candidates, which will be put in dictionaries. These dictionaries will have the candidate as key and the number of times it appearas as value\n",
    "            candidates = {}\n",
    "            for candidate in line[2:]:\n",
    "                candidate = candidate.strip()\n",
    "                if candidate in candidates:\n",
    "                    candidates[candidate] += 1\n",
    "                else:\n",
    "                    candidates[candidate] = 1\n",
    "                    \n",
    "            # add new row to the dataframe\n",
    "            new_df = pd.DataFrame([[id, complex_word, text, candidates]], columns=['Id', 'Complex_word', 'Text', 'Candidates'])\n",
    "            df = pd.concat([df, new_df], ignore_index=True)\n",
    "    \n",
    "    return df\n",
    "\n",
    "df = parse_df('../data/tsar2022_es_test_gold.tsv')\n",
    "df.set_index('Id', inplace=True)\n",
    "df.head()\n",
    "            \n"
   ]
  },
  {
   "cell_type": "markdown",
   "metadata": {},
   "source": [
    "## Exploratory Data Analysis"
   ]
  },
  {
   "cell_type": "markdown",
   "metadata": {},
   "source": [
    "EDA (or Exploratory Data Analysis) is the process of examining and understanding the intrinsics of a dataset in order to obtain the most useful information from it as possible. This process is crucial to understand the data and to make sure that the data is clean and ready to be used in a machine learning model. In this step, it's very useful to apply some statistical techniques and visualizations to understand what we're working with a bit better.\n",
    "\n",
    "However, in this notebook, the data in question is not numerical, but textual. This means that we can't use the usual methods to analyse data, such as histograms, scatter plots, etc. Instead, Natural Language Processing (NLP) techniques will be used to extract the most important information."
   ]
  },
  {
   "cell_type": "markdown",
   "metadata": {},
   "source": [
    "### Basic Dataset Information"
   ]
  },
  {
   "cell_type": "markdown",
   "metadata": {},
   "source": [
    "#### Dataset Head"
   ]
  },
  {
   "cell_type": "markdown",
   "metadata": {},
   "source": [
    "#### Dataset Shape"
   ]
  },
  {
   "cell_type": "markdown",
   "metadata": {},
   "source": [
    "#### Dataset Structure"
   ]
  },
  {
   "cell_type": "markdown",
   "metadata": {},
   "source": [
    "#### Looking for Null Values"
   ]
  },
  {
   "cell_type": "markdown",
   "metadata": {},
   "source": [
    "### Text Statistics"
   ]
  },
  {
   "cell_type": "markdown",
   "metadata": {},
   "source": [
    "#### Word Frecuency Analysis"
   ]
  },
  {
   "cell_type": "markdown",
   "metadata": {},
   "source": [
    "#### N-Gram Exploration"
   ]
  },
  {
   "cell_type": "markdown",
   "metadata": {},
   "source": [
    "#### Wordcloud (Without Stopwords)"
   ]
  },
  {
   "cell_type": "markdown",
   "metadata": {},
   "source": [
    "### Specific Domain Analysis and Metrics"
   ]
  },
  {
   "cell_type": "markdown",
   "metadata": {},
   "source": [
    "A number of specific metrics to understand a sentence's complexity and readability have been developed over the years. In this notebook, we will use the following metrics, taken from this reference [paper](https://www.researchgate.net/publication/348660072_Automated_Readability_Assessment_for_Spanish_e-Government_Information) on readability assessment for Spanish e-Government information, and the follwing website, [Legible.es](https://legible.es/):\n",
    "- [μ legibility](https://legible.es/blog/legibilidad-mu/)\n"
   ]
  },
  {
   "cell_type": "markdown",
   "metadata": {},
   "source": [
    "#### μ legibility"
   ]
  },
  {
   "cell_type": "markdown",
   "metadata": {},
   "source": [
    "The readability index μ is a readability index based on the length of words and the mean and variance of the number of letters per word. It is calculated as follows:\n",
    "\n",
    "$$ μ = \\frac{n}{n-1} \\times \\frac{\\bar{x}}{\\sigma^2} \\times 100 $$\n",
    "\n",
    "Where:\n",
    "- $ n $: number of words in the text\n",
    "- $ \\bar{x} $: the mean number of letters per word \n",
    "- $ \\sigma^2 $: the variance of letters per word\n"
   ]
  },
  {
   "cell_type": "code",
   "execution_count": 3,
   "metadata": {},
   "outputs": [
    {
     "data": {
      "text/html": [
       "<div>\n",
       "<style scoped>\n",
       "    .dataframe tbody tr th:only-of-type {\n",
       "        vertical-align: middle;\n",
       "    }\n",
       "\n",
       "    .dataframe tbody tr th {\n",
       "        vertical-align: top;\n",
       "    }\n",
       "\n",
       "    .dataframe thead th {\n",
       "        text-align: right;\n",
       "    }\n",
       "</style>\n",
       "<table border=\"1\" class=\"dataframe\">\n",
       "  <thead>\n",
       "    <tr style=\"text-align: right;\">\n",
       "      <th></th>\n",
       "      <th>Complex_word</th>\n",
       "      <th>Text</th>\n",
       "      <th>Candidates</th>\n",
       "      <th>Mu_legibilituy</th>\n",
       "    </tr>\n",
       "    <tr>\n",
       "      <th>Id</th>\n",
       "      <th></th>\n",
       "      <th></th>\n",
       "      <th></th>\n",
       "      <th></th>\n",
       "    </tr>\n",
       "  </thead>\n",
       "  <tbody>\n",
       "    <tr>\n",
       "      <th>89497</th>\n",
       "      <td>labrarse</td>\n",
       "      <td>A comienzos de la década de 1980, se trasladó ...</td>\n",
       "      <td>{'construirse': 4, 'trabajar': 1, 'ganarse': 2...</td>\n",
       "      <td>47.048815</td>\n",
       "    </tr>\n",
       "    <tr>\n",
       "      <th>10973</th>\n",
       "      <td>tertulias</td>\n",
       "      <td>A lo largo de sus más de veinte años de experi...</td>\n",
       "      <td>{'conversaciones': 2, 'debates': 4, 'reunion':...</td>\n",
       "      <td>38.524947</td>\n",
       "    </tr>\n",
       "    <tr>\n",
       "      <th>97065</th>\n",
       "      <td>propiciado</td>\n",
       "      <td>A pesar de las pocas bajas (menos de 500 en to...</td>\n",
       "      <td>{'favorecido': 3, 'desencadenado': 3, 'favorid...</td>\n",
       "      <td>57.156977</td>\n",
       "    </tr>\n",
       "    <tr>\n",
       "      <th>58392</th>\n",
       "      <td>decadencia</td>\n",
       "      <td>A pesar de las pocas bajas (menos de 500 en to...</td>\n",
       "      <td>{'caída': 11, 'decaimiento': 1, 'abatimiento':...</td>\n",
       "      <td>57.156977</td>\n",
       "    </tr>\n",
       "    <tr>\n",
       "      <th>50812</th>\n",
       "      <td>caseríos</td>\n",
       "      <td>Al igual que otros municipios cercanos a Toled...</td>\n",
       "      <td>{'casas': 5, 'casales': 1, 'trabajos': 1, 'pue...</td>\n",
       "      <td>62.283901</td>\n",
       "    </tr>\n",
       "  </tbody>\n",
       "</table>\n",
       "</div>"
      ],
      "text/plain": [
       "      Complex_word                                               Text  \\\n",
       "Id                                                                      \n",
       "89497     labrarse  A comienzos de la década de 1980, se trasladó ...   \n",
       "10973    tertulias  A lo largo de sus más de veinte años de experi...   \n",
       "97065   propiciado  A pesar de las pocas bajas (menos de 500 en to...   \n",
       "58392   decadencia  A pesar de las pocas bajas (menos de 500 en to...   \n",
       "50812     caseríos  Al igual que otros municipios cercanos a Toled...   \n",
       "\n",
       "                                              Candidates  Mu_legibilituy  \n",
       "Id                                                                        \n",
       "89497  {'construirse': 4, 'trabajar': 1, 'ganarse': 2...       47.048815  \n",
       "10973  {'conversaciones': 2, 'debates': 4, 'reunion':...       38.524947  \n",
       "97065  {'favorecido': 3, 'desencadenado': 3, 'favorid...       57.156977  \n",
       "58392  {'caída': 11, 'decaimiento': 1, 'abatimiento':...       57.156977  \n",
       "50812  {'casas': 5, 'casales': 1, 'trabajos': 1, 'pue...       62.283901  "
      ]
     },
     "execution_count": 3,
     "metadata": {},
     "output_type": "execute_result"
    }
   ],
   "source": [
    "def get_number_of_words(text : str) -> float:\n",
    "    return len(text.split())\n",
    "\n",
    "def get_average_number_of_characters(text : str) -> float:\n",
    "    return sum([len(word) for word in text.split()]) / get_number_of_words(text)\n",
    "\n",
    "def get_variance_of_letters_per_word(text : str) -> float:\n",
    "    average = get_average_number_of_characters(text)\n",
    "    number_of_words = get_number_of_words(text)\n",
    "    variance = sum([(len(word) - average) ** 2 for word in text.split()]) / number_of_words\n",
    "    \n",
    "    return variance\n",
    "\n",
    "def get_mu_legibility(text : str) -> float:\n",
    "    n = get_number_of_words(text)\n",
    "    x = get_average_number_of_characters(text)\n",
    "    sigma = get_variance_of_letters_per_word(text)\n",
    "    \n",
    "    return (n/(n-1)) * (x / sigma) * 100\n",
    "\n",
    "# add new columns to the dataframe\n",
    "df['Mu_legibilituy'] = df['Text'].apply(get_mu_legibility)\n",
    "df.head()\n",
    "\n"
   ]
  },
  {
   "cell_type": "markdown",
   "metadata": {},
   "source": [
    "## Obtaining inferred candidates"
   ]
  },
  {
   "cell_type": "code",
   "execution_count": 4,
   "metadata": {},
   "outputs": [
    {
     "data": {
      "text/plain": [
       "{'fuerte': 4,\n",
       " 'corpulento': 4,\n",
       " 'vigoroso': 3,\n",
       " 'sólido': 2,\n",
       " 'robusto': 2,\n",
       " 'musculoso': 1,\n",
       " 'resistente': 1,\n",
       " 'hercúleo': 1,\n",
       " 'macizo': 1,\n",
       " 'sano': 1}"
      ]
     },
     "execution_count": 4,
     "metadata": {},
     "output_type": "execute_result"
    }
   ],
   "source": [
    "# Comment out the models you don't want to use\n",
    "open_source_models = [\n",
    "    'llama-70b-chat',\n",
    "    'mixtral-8x7b-instruct',\n",
    "    #'gemma-7b', todavia no está disponible\n",
    "    # 'falcon-40b-instruct'\n",
    "    ]\n",
    "closed_models = [\n",
    "    'ChatGPT',\n",
    "    'Gemini-1.0-pro'\n",
    "    ]\n",
    "\n",
    "model_list = open_source_models + closed_models\n",
    "\n",
    "manager = clients.ClientManager(model_list)\n",
    "\n",
    "aux = df.sample(1)\n",
    "text = aux['Text'].values[0]\n",
    "complex_word = aux['Complex_word'].values[0]\n",
    "user,system = clients.create_user_prompt(text, complex_word)\n",
    "outputs = manager.get_response(user, system)\n",
    "outputs = clients.parse_outputs(outputs)\n",
    "outputs = clients.candidate_lists_to_dict(outputs)\n",
    "\n",
    "# show dict of candidates ordered by value\n",
    "sorted_outputs = dict(sorted(outputs.items(), key=lambda item: item[1], reverse=True))\n",
    "sorted_outputs\n",
    "\n"
   ]
  },
  {
   "cell_type": "markdown",
   "metadata": {},
   "source": [
    "## Metrics"
   ]
  },
  {
   "cell_type": "code",
   "execution_count": 6,
   "metadata": {},
   "outputs": [
    {
     "name": "stdout",
     "output_type": "stream",
     "text": [
      "Jaccard: 0.375\n",
      "Cosine similarity: 0.8856148855400952\n",
      "Similarity: 0.6\n",
      "Value similarity: 0.75\n"
     ]
    }
   ],
   "source": [
    "jacc = metrics.get_jaccard_score(outputs, aux['Candidates'].values[0])\n",
    "cos_sim = metrics.cosine_similarity(outputs, aux['Candidates'].values[0])\n",
    "sim = metrics.get_key_similarity(outputs, aux['Candidates'].values[0])\n",
    "val = metrics.get_value_similarity(outputs, aux['Candidates'].values[0])\n",
    "\n",
    "print(f'Jaccard: {jacc}')\n",
    "print(f'Cosine similarity: {cos_sim}')\n",
    "print(f'Similarity: {sim}')\n",
    "print(f'Value similarity: {val}')\n"
   ]
  }
 ],
 "metadata": {
  "kernelspec": {
   "display_name": "Python 3",
   "language": "python",
   "name": "python3"
  },
  "language_info": {
   "codemirror_mode": {
    "name": "ipython",
    "version": 3
   },
   "file_extension": ".py",
   "mimetype": "text/x-python",
   "name": "python",
   "nbconvert_exporter": "python",
   "pygments_lexer": "ipython3",
   "version": "3.11.1"
  }
 },
 "nbformat": 4,
 "nbformat_minor": 2
}
